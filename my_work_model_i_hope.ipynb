{
 "cells": [
  {
   "cell_type": "code",
   "execution_count": 63,
   "metadata": {},
   "outputs": [],
   "source": [
    "from tensorflow.keras.models import load_model\n",
    "import numpy as np\n",
    "import pandas as pd\n",
    "import os\n",
    "import librosa\n",
    "import librosa.display\n",
    "import numpy as np\n",
    "import IPython.display as ipd\n",
    "from tqdm import tqdm\n",
    "import matplotlib.pyplot as plt\n",
    "import tensorflow as tf\n",
    "%matplotlib inline\n",
    "import tensorflow_io as tfio\n",
    "import math\n",
    "import json"
   ]
  },
  {
   "cell_type": "code",
   "execution_count": 3,
   "metadata": {},
   "outputs": [],
   "source": [
    "DATASET_PATH = os.path.join('ASR_Diplom', 'YANDEX_DATASET', 'to_learn', 'to_learn_2' )"
   ]
  },
  {
   "cell_type": "code",
   "execution_count": 9,
   "metadata": {},
   "outputs": [
    {
     "name": "stderr",
     "output_type": "stream",
     "text": [
      "2023-06-11 10:19:14.689648: I tensorflow/compiler/xla/stream_executor/cuda/cuda_gpu_executor.cc:996] successful NUMA node read from SysFS had negative value (-1), but there must be at least one NUMA node, so returning NUMA node zero. See more at https://github.com/torvalds/linux/blob/v6.0/Documentation/ABI/testing/sysfs-bus-pci#L344-L355\n",
      "2023-06-11 10:19:14.694230: W tensorflow/core/common_runtime/gpu/gpu_device.cc:1956] Cannot dlopen some GPU libraries. Please make sure the missing libraries mentioned above are installed properly if you would like to use GPU. Follow the guide at https://www.tensorflow.org/install/gpu for how to download and setup the required libraries for your platform.\n",
      "Skipping registering GPU devices...\n"
     ]
    }
   ],
   "source": [
    "model = load_model('saved_models/audio_classification.hdf5')"
   ]
  },
  {
   "cell_type": "code",
   "execution_count": 58,
   "metadata": {},
   "outputs": [
    {
     "data": {
      "text/html": [
       "<div>\n",
       "<style scoped>\n",
       "    .dataframe tbody tr th:only-of-type {\n",
       "        vertical-align: middle;\n",
       "    }\n",
       "\n",
       "    .dataframe tbody tr th {\n",
       "        vertical-align: top;\n",
       "    }\n",
       "\n",
       "    .dataframe thead th {\n",
       "        text-align: right;\n",
       "    }\n",
       "</style>\n",
       "<table border=\"1\" class=\"dataframe\">\n",
       "  <thead>\n",
       "    <tr style=\"text-align: right;\">\n",
       "      <th></th>\n",
       "      <th>feature</th>\n",
       "      <th>class</th>\n",
       "    </tr>\n",
       "  </thead>\n",
       "  <tbody>\n",
       "    <tr>\n",
       "      <th>0</th>\n",
       "      <td>[-6.94500854e+02  8.17331696e+01 -4.69072952e+...</td>\n",
       "      <td>dislike_to_learn</td>\n",
       "    </tr>\n",
       "    <tr>\n",
       "      <th>1</th>\n",
       "      <td>[-7.6508453e+02  7.3037628e+01 -3.5624687e+01 ...</td>\n",
       "      <td>dislike_to_learn</td>\n",
       "    </tr>\n",
       "    <tr>\n",
       "      <th>2</th>\n",
       "      <td>[-770.0587      73.25779    -35.258       35.2...</td>\n",
       "      <td>dislike_to_learn</td>\n",
       "    </tr>\n",
       "    <tr>\n",
       "      <th>3</th>\n",
       "      <td>[-7.2832935e+02  7.1925896e+01 -2.1925377e+01 ...</td>\n",
       "      <td>dislike_to_learn</td>\n",
       "    </tr>\n",
       "    <tr>\n",
       "      <th>4</th>\n",
       "      <td>[-6.3760278e+02  7.3678200e+01 -3.8586246e+01 ...</td>\n",
       "      <td>dislike_to_learn</td>\n",
       "    </tr>\n",
       "    <tr>\n",
       "      <th>5</th>\n",
       "      <td>[-7.6653198e+02  6.9944092e+01 -2.6869017e+01 ...</td>\n",
       "      <td>dislike_to_learn</td>\n",
       "    </tr>\n",
       "    <tr>\n",
       "      <th>6</th>\n",
       "      <td>[-7.1310046e+02  4.4588623e+01 -1.4694318e+01 ...</td>\n",
       "      <td>dislike_to_learn</td>\n",
       "    </tr>\n",
       "    <tr>\n",
       "      <th>7</th>\n",
       "      <td>[-6.92225891e+02  4.21372032e+01 -3.43386536e+...</td>\n",
       "      <td>dislike_to_learn</td>\n",
       "    </tr>\n",
       "    <tr>\n",
       "      <th>8</th>\n",
       "      <td>[-7.3918774e+02  7.4243317e+01 -3.9925903e+01 ...</td>\n",
       "      <td>dislike_to_learn</td>\n",
       "    </tr>\n",
       "    <tr>\n",
       "      <th>9</th>\n",
       "      <td>[-6.8446661e+02  8.6852219e+01 -2.2097857e+01 ...</td>\n",
       "      <td>dislike_to_learn</td>\n",
       "    </tr>\n",
       "  </tbody>\n",
       "</table>\n",
       "</div>"
      ],
      "text/plain": [
       "                                             feature             class\n",
       "0  [-6.94500854e+02  8.17331696e+01 -4.69072952e+...  dislike_to_learn\n",
       "1  [-7.6508453e+02  7.3037628e+01 -3.5624687e+01 ...  dislike_to_learn\n",
       "2  [-770.0587      73.25779    -35.258       35.2...  dislike_to_learn\n",
       "3  [-7.2832935e+02  7.1925896e+01 -2.1925377e+01 ...  dislike_to_learn\n",
       "4  [-6.3760278e+02  7.3678200e+01 -3.8586246e+01 ...  dislike_to_learn\n",
       "5  [-7.6653198e+02  6.9944092e+01 -2.6869017e+01 ...  dislike_to_learn\n",
       "6  [-7.1310046e+02  4.4588623e+01 -1.4694318e+01 ...  dislike_to_learn\n",
       "7  [-6.92225891e+02  4.21372032e+01 -3.43386536e+...  dislike_to_learn\n",
       "8  [-7.3918774e+02  7.4243317e+01 -3.9925903e+01 ...  dislike_to_learn\n",
       "9  [-6.8446661e+02  8.6852219e+01 -2.2097857e+01 ...  dislike_to_learn"
      ]
     },
     "execution_count": 58,
     "metadata": {},
     "output_type": "execute_result"
    }
   ],
   "source": [
    "extracted_features_df = pd.read_csv('my_data.csv')\n",
    "extracted_features_df.head(10)"
   ]
  },
  {
   "cell_type": "code",
   "execution_count": 59,
   "metadata": {},
   "outputs": [],
   "source": [
    "x=np.array(extracted_features_df['feature'].tolist())\n",
    "y=np.array(extracted_features_df['class'].tolist())"
   ]
  },
  {
   "cell_type": "code",
   "execution_count": 60,
   "metadata": {},
   "outputs": [
    {
     "data": {
      "text/plain": [
       "(4000,)"
      ]
     },
     "execution_count": 60,
     "metadata": {},
     "output_type": "execute_result"
    }
   ],
   "source": [
    "x.shape"
   ]
  },
  {
   "cell_type": "code",
   "execution_count": 15,
   "metadata": {},
   "outputs": [],
   "source": [
    "from tensorflow.keras.utils import to_categorical\n",
    "from sklearn.preprocessing import LabelEncoder\n",
    "labelencoder=LabelEncoder()\n",
    "y=to_categorical(labelencoder.fit_transform(y))"
   ]
  },
  {
   "cell_type": "code",
   "execution_count": 10,
   "metadata": {},
   "outputs": [
    {
     "name": "stdout",
     "output_type": "stream",
     "text": [
      "Model: \"sequential_2\"\n",
      "_________________________________________________________________\n",
      " Layer (type)                Output Shape              Param #   \n",
      "=================================================================\n",
      " dense_8 (Dense)             (None, 100)               4100      \n",
      "                                                                 \n",
      " activation_8 (Activation)   (None, 100)               0         \n",
      "                                                                 \n",
      " dropout_6 (Dropout)         (None, 100)               0         \n",
      "                                                                 \n",
      " dense_9 (Dense)             (None, 200)               20200     \n",
      "                                                                 \n",
      " activation_9 (Activation)   (None, 200)               0         \n",
      "                                                                 \n",
      " dropout_7 (Dropout)         (None, 200)               0         \n",
      "                                                                 \n",
      " dense_10 (Dense)            (None, 200)               40200     \n",
      "                                                                 \n",
      " activation_10 (Activation)  (None, 200)               0         \n",
      "                                                                 \n",
      " dropout_8 (Dropout)         (None, 200)               0         \n",
      "                                                                 \n",
      " dense_11 (Dense)            (None, 100)               20100     \n",
      "                                                                 \n",
      " activation_11 (Activation)  (None, 100)               0         \n",
      "                                                                 \n",
      " dropout_9 (Dropout)         (None, 100)               0         \n",
      "                                                                 \n",
      " dense_12 (Dense)            (None, 4)                 404       \n",
      "                                                                 \n",
      " activation_12 (Activation)  (None, 4)                 0         \n",
      "                                                                 \n",
      "=================================================================\n",
      "Total params: 85,004\n",
      "Trainable params: 85,004\n",
      "Non-trainable params: 0\n",
      "_________________________________________________________________\n"
     ]
    }
   ],
   "source": [
    "model.summary()"
   ]
  },
  {
   "cell_type": "code",
   "execution_count": 18,
   "metadata": {},
   "outputs": [],
   "source": [
    "def load_wav_16k_mono(filename):\n",
    "    # Load encoded wav file\n",
    "    file_contents = tf.io.read_file(filename)\n",
    "    # Decode wav (tensors by channels) \n",
    "    wav, sample_rate = tf.audio.decode_wav(file_contents, desired_channels=1)\n",
    "    # Removes trailing axis\n",
    "    wav = tf.squeeze(wav, axis=-1)\n",
    "    sample_rate = tf.cast(sample_rate, dtype=tf.int64)\n",
    "    # Goes from 44100Hz to 16000hz - amplitude of the audio signal\n",
    "    wav = tfio.audio.resample(wav, rate_in=sample_rate, rate_out=16000)\n",
    "    return wav\n",
    "\n",
    "def preprocess(file_path): \n",
    "    wav = load_wav_16k_mono(file_path)\n",
    "    wav = wav[:48000]\n",
    "    zero_padding = tf.zeros([48000] - tf.shape(wav), dtype=tf.float32)\n",
    "    wav = tf.concat([zero_padding, wav],0)\n",
    "    return wav"
   ]
  },
  {
   "cell_type": "code",
   "execution_count": 46,
   "metadata": {},
   "outputs": [
    {
     "name": "stderr",
     "output_type": "stream",
     "text": [
      "ffmpeg version n6.0 Copyright (c) 2000-2023 the FFmpeg developers\n",
      "  built with gcc 13.1.1 (GCC) 20230429\n",
      "  configuration: --prefix=/usr --disable-debug --disable-static --disable-stripping --enable-amf --enable-avisynth --enable-cuda-llvm --enable-lto --enable-fontconfig --enable-gmp --enable-gnutls --enable-gpl --enable-ladspa --enable-libaom --enable-libass --enable-libbluray --enable-libbs2b --enable-libdav1d --enable-libdrm --enable-libfreetype --enable-libfribidi --enable-libgsm --enable-libiec61883 --enable-libjack --enable-libjxl --enable-libmfx --enable-libmodplug --enable-libmp3lame --enable-libopencore_amrnb --enable-libopencore_amrwb --enable-libopenjpeg --enable-libopenmpt --enable-libopus --enable-libpulse --enable-librav1e --enable-librsvg --enable-libsoxr --enable-libspeex --enable-libsrt --enable-libssh --enable-libsvtav1 --enable-libtheora --enable-libv4l2 --enable-libvidstab --enable-libvmaf --enable-libvorbis --enable-libvpx --enable-libwebp --enable-libx264 --enable-libx265 --enable-libxcb --enable-libxml2 --enable-libxvid --enable-libzimg --enable-nvdec --enable-nvenc --enable-opencl --enable-opengl --enable-shared --enable-version3 --enable-vulkan\n",
      "  libavutil      58.  2.100 / 58.  2.100\n",
      "  libavcodec     60.  3.100 / 60.  3.100\n",
      "  libavformat    60.  3.100 / 60.  3.100\n",
      "  libavdevice    60.  1.100 / 60.  1.100\n",
      "  libavfilter     9.  3.100 /  9.  3.100\n",
      "  libswscale      7.  1.100 /  7.  1.100\n",
      "  libswresample   4. 10.100 /  4. 10.100\n",
      "  libpostproc    57.  1.100 / 57.  1.100\n",
      "Input #0, matroska,webm, from 'flask_serv/saved/file.wav':\n",
      "  Metadata:\n",
      "    encoder         : Chrome\n",
      "  Duration: N/A, start: 0.000000, bitrate: N/A\n",
      "  Stream #0:0(eng): Audio: opus, 48000 Hz, mono, fltp (default)\n",
      "Stream mapping:\n",
      "  Stream #0:0 -> #0:0 (opus (native) -> pcm_s16le (native))\n",
      "Press [q] to stop, [?] for help\n",
      "Output #0, wav, to 'flask_serv/saved/audio.wav':\n",
      "  Metadata:\n",
      "    ISFT            : Lavf60.3.100\n",
      "  Stream #0:0(eng): Audio: pcm_s16le ([1][0][0][0] / 0x0001), 48000 Hz, mono, s16, 768 kb/s (default)\n",
      "    Metadata:\n",
      "      encoder         : Lavc60.3.100 pcm_s16le\n",
      "size=     236kB time=00:00:02.46 bitrate= 787.0kbits/s speed= 542x    \n",
      "video:0kB audio:236kB subtitle:0kB other streams:0kB global headers:0kB muxing overhead: 0.032242%\n"
     ]
    },
    {
     "data": {
      "text/plain": [
       "0"
      ]
     },
     "execution_count": 46,
     "metadata": {},
     "output_type": "execute_result"
    }
   ],
   "source": [
    "import subprocess\n",
    "subprocess.call(['ffmpeg', '-i', 'flask_serv/saved/file.wav',\n",
    "                   'flask_serv/saved/audio.wav'])"
   ]
  },
  {
   "cell_type": "code",
   "execution_count": 64,
   "metadata": {},
   "outputs": [
    {
     "name": "stdout",
     "output_type": "stream",
     "text": [
      "[-6.8120978e+02  3.8078697e+01  2.9524112e-01  5.3980947e+00\n",
      "  9.3655224e+00  2.9750962e+00  2.3212700e+00  2.7702498e+00\n",
      " -2.1211596e-01  3.4062312e+00 -1.1732076e+00 -1.1220042e+00\n",
      " -8.3227366e-01  1.7762926e+00  3.2891238e-01  1.1557896e+00\n",
      " -1.4838103e+00  1.8187978e+00 -2.4823093e+00 -2.1340424e-01\n",
      " -1.2898295e+00  4.1127759e-01 -2.1171091e+00 -1.1878524e+00\n",
      " -1.2894152e+00 -5.4592645e-01  1.1809294e-01  3.8364828e-01\n",
      " -8.8933170e-01  1.2014093e-01 -5.4570571e-02  3.0548832e-01\n",
      " -1.0915042e+00  2.5049356e-01 -7.0697218e-01  7.7669299e-01\n",
      " -1.1601051e+00 -1.5831035e-01 -9.2326111e-01  1.3182090e-01]\n",
      "[[-6.8120978e+02  3.8078697e+01  2.9524112e-01  5.3980947e+00\n",
      "   9.3655224e+00  2.9750962e+00  2.3212700e+00  2.7702498e+00\n",
      "  -2.1211596e-01  3.4062312e+00 -1.1732076e+00 -1.1220042e+00\n",
      "  -8.3227366e-01  1.7762926e+00  3.2891238e-01  1.1557896e+00\n",
      "  -1.4838103e+00  1.8187978e+00 -2.4823093e+00 -2.1340424e-01\n",
      "  -1.2898295e+00  4.1127759e-01 -2.1171091e+00 -1.1878524e+00\n",
      "  -1.2894152e+00 -5.4592645e-01  1.1809294e-01  3.8364828e-01\n",
      "  -8.8933170e-01  1.2014093e-01 -5.4570571e-02  3.0548832e-01\n",
      "  -1.0915042e+00  2.5049356e-01 -7.0697218e-01  7.7669299e-01\n",
      "  -1.1601051e+00 -1.5831035e-01 -9.2326111e-01  1.3182090e-01]]\n",
      "(1, 40)\n",
      "1/1 [==============================] - 0s 21ms/step\n",
      "[[6.0053803e-03 1.9708465e-01 4.4406448e-08 7.9690993e-01]]\n"
     ]
    },
    {
     "data": {
      "text/plain": [
       "'up_to_learn'"
      ]
     },
     "execution_count": 64,
     "metadata": {},
     "output_type": "execute_result"
    }
   ],
   "source": [
    "# file_name = os.path.join(DATASET_PATH, 'up_to_learn', '0b4ef445b92a18e374c8bf1423cadae8.wav')\n",
    "file_name = 'flask_serv/saved/audio.wav'\n",
    "audio_data, sample_rate = librosa.core.load(file_name)\n",
    "mfccs_features = librosa.feature.mfcc(y=audio_data, sr=16000, n_mfcc=40)\n",
    "mfccs_scaled_features = np.mean(mfccs_features.T,axis=0)\n",
    "\n",
    "print(mfccs_scaled_features)\n",
    "mfccs_scaled_features=mfccs_scaled_features.reshape(1,-1)\n",
    "print(mfccs_scaled_features)\n",
    "print(mfccs_scaled_features.shape)\n",
    "predicted_label=model.predict(mfccs_scaled_features)\n",
    "print(predicted_label)\n",
    "classes_x=np.argmax(predicted_label,axis=1)\n",
    "prediction_class = labelencoder.inverse_transform(classes_x)\n",
    "prediction_class[0]"
   ]
  }
 ],
 "metadata": {
  "kernelspec": {
   "display_name": "venv",
   "language": "python",
   "name": "python3"
  },
  "language_info": {
   "codemirror_mode": {
    "name": "ipython",
    "version": 3
   },
   "file_extension": ".py",
   "mimetype": "text/x-python",
   "name": "python",
   "nbconvert_exporter": "python",
   "pygments_lexer": "ipython3",
   "version": "3.10.10"
  },
  "orig_nbformat": 4
 },
 "nbformat": 4,
 "nbformat_minor": 2
}
